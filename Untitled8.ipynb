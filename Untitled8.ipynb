{
 "cells": [
  {
   "cell_type": "code",
   "execution_count": 13,
   "id": "be88708b-57a0-446e-866b-7a5464440316",
   "metadata": {},
   "outputs": [
    {
     "name": "stdout",
     "output_type": "stream",
     "text": [
      "0    1\n",
      "1    8\n",
      "2    2\n",
      "3    7\n",
      "4    3\n",
      "5    5\n",
      "dtype: int64\n"
     ]
    }
   ],
   "source": [
    "import pandas as pd\n",
    "a = [1,8,2,7,3,5]\n",
    "myvar = pd.Series(a)\n",
    "print(myvar)\n"
   ]
  },
  {
   "cell_type": "code",
   "execution_count": 10,
   "id": "f66b88c2-e801-4d9d-9172-42b9255bae6b",
   "metadata": {},
   "outputs": [
    {
     "name": "stdout",
     "output_type": "stream",
     "text": [
      "2021-05-01\n",
      "2021-05-02\n",
      "2021-05-03\n",
      "2021-05-04\n",
      "2021-05-05\n",
      "2021-05-06\n",
      "2021-05-07\n",
      "2021-05-08\n",
      "2021-05-09\n",
      "2021-05-10\n",
      "2021-05-11\n",
      "2021-05-12\n"
     ]
    }
   ],
   "source": [
    "import pandas as pd\n",
    "a = pd.Series(pd.date_range('2021-05-01','2021-05-12'))\n",
    "print(a.to_string(index=False))"
   ]
  },
  {
   "cell_type": "code",
   "execution_count": 11,
   "id": "669c75a9-5693-4950-b365-5a3f13944285",
   "metadata": {},
   "outputs": [
    {
     "name": "stdout",
     "output_type": "stream",
     "text": [
      "   calories  duration\n",
      "0       234        23\n",
      "1       456        56\n",
      "2       678        43\n"
     ]
    }
   ],
   "source": [
    "import pandas as pd\n",
    "a={\"calories\":[234,456,678],\n",
    "  \"duration\":[23,56,43]}\n",
    "myvar=pd.DataFrame(a)\n",
    "print(myvar)"
   ]
  },
  {
   "cell_type": "code",
   "execution_count": 12,
   "id": "d12b5d6e-6af4-42b3-894b-8ed7f32fb659",
   "metadata": {},
   "outputs": [
    {
     "name": "stdout",
     "output_type": "stream",
     "text": [
      "   0  1\n",
      "0  1  3\n",
      "1  5  6\n"
     ]
    }
   ],
   "source": [
    "import pandas as pd\n",
    "a=[[1,3],[5,6]]\n",
    "myvar=pd.DataFrame(a)\n",
    "print(myvar)"
   ]
  },
  {
   "cell_type": "code",
   "execution_count": 14,
   "id": "c3b0c60e-423c-4976-a2f7-6008715fb003",
   "metadata": {},
   "outputs": [
    {
     "name": "stdout",
     "output_type": "stream",
     "text": [
      "  Name  Mark\n",
      "0    A    45\n",
      "1    B    34\n",
      "2    C    40\n"
     ]
    }
   ],
   "source": [
    "import pandas as pd\n",
    "a=pd.read_csv('data.csv')\n",
    "print(a.to_string())"
   ]
  },
  {
   "cell_type": "code",
   "execution_count": 26,
   "id": "27724189-c17b-4f1e-89ba-73ef2373b315",
   "metadata": {},
   "outputs": [
    {
     "name": "stdout",
     "output_type": "stream",
     "text": [
      "  Name  Age  Mark\n",
      "0    B   34    45\n",
      "1    C   22    43\n",
      "2    A   22    52\n",
      "Sorted Data:\n",
      "  Name  Age  Mark\n",
      "2    A   22    52\n",
      "0    B   34    45\n",
      "1    C   22    43\n"
     ]
    }
   ],
   "source": [
    "import pandas as pd\n",
    "a=pd.DataFrame({'Name':['B','C','A'],'Age':[34,22,22],'Mark':[45,43,52]})\n",
    "print(a.to_string())\n",
    "\n",
    "print(\"Sorted Data:\")\n",
    "\n",
    "b=a.sort_values(by=['Name','Age'],ascending=[True,True])\n",
    "print(b.to_string())"
   ]
  },
  {
   "cell_type": "code",
   "execution_count": 41,
   "id": "875a9f23-c29d-494f-a160-ec69a98f93df",
   "metadata": {},
   "outputs": [
    {
     "name": "stdout",
     "output_type": "stream",
     "text": [
      "   Name  Age  Mark\n",
      "a1    B   34    45\n",
      "c1    C   22    43\n",
      "b1    A   22    52\n",
      "converting to default indexing\n",
      "  Name  Age  Mark\n",
      "0    B   34    45\n",
      "1    C   22    43\n",
      "2    A   22    52\n"
     ]
    }
   ],
   "source": [
    "import pandas as pd\n",
    "a={'Name':['B','C','A'],'Age':[34,22,22],'Mark':[45,43,52]}\n",
    "index={'b1','c1','a1'}\n",
    "myvar=pd.DataFrame(a,index)\n",
    "print(myvar.to_string())\n",
    "print(\"converting to default indexing\")\n",
    "myvar.reset_index(inplace=True, drop=True)\n",
    "print(myvar.to_string())"
   ]
  },
  {
   "cell_type": "code",
   "execution_count": 42,
   "id": "823fecc3-110b-4681-bda1-f7c62a1cdfe2",
   "metadata": {},
   "outputs": [
    {
     "name": "stdout",
     "output_type": "stream",
     "text": [
      "  Name  Age  Mark\n",
      "0    B   34    45\n",
      "1    C   22    43\n"
     ]
    }
   ],
   "source": [
    "import pandas as pd\n",
    "a={'Name':['B','C','A'],'Age':[34,22,22],'Mark':[45,43,52]}\n",
    "myvar=pd.DataFrame(a)\n",
    "print(myvar[:2])"
   ]
  },
  {
   "cell_type": "code",
   "execution_count": 47,
   "id": "9ce51ec6-cae1-473a-8f01-9ccc23e0cf9a",
   "metadata": {},
   "outputs": [
    {
     "name": "stdout",
     "output_type": "stream",
     "text": [
      "  Name  Occupation  Salary\n",
      "0    A     Manager   45000\n",
      "1    B  Accountant   23000\n",
      "2    C     Teacher   52000\n",
      "3    D     Manager   47000\n",
      "Average Salary:\n",
      "Occupation\n",
      "Accountant    23000.0\n",
      "Manager       46000.0\n",
      "Teacher       52000.0\n",
      "Name: Salary, dtype: float64\n"
     ]
    }
   ],
   "source": [
    "import pandas as pd\n",
    "a={'Name':['A','B','C','D'],'Occupation':['Manager','Accountant','Teacher','Manager'],'Salary':[45000,23000,52000,47000]}\n",
    "myvar=pd.DataFrame(a)\n",
    "print(myvar)\n",
    "myvar=myvar.groupby('Occupation')['Salary'].mean()\n",
    "print(\"Average Salary:\")\n",
    "print(myvar)"
   ]
  },
  {
   "cell_type": "code",
   "execution_count": 49,
   "id": "f072521d-2a7f-4bb1-9993-e7e4db3c33e6",
   "metadata": {},
   "outputs": [
    {
     "name": "stdout",
     "output_type": "stream",
     "text": [
      "   Set_of_Numbers\n",
      "0             2.0\n",
      "1             3.0\n",
      "2             5.0\n",
      "3             7.0\n",
      "4            11.0\n",
      "5            13.0\n",
      "6             0.0\n",
      "7            19.0\n",
      "8            23.0\n",
      "9             0.0\n"
     ]
    }
   ],
   "source": [
    "import pandas as pd\n",
    "import numpy as np\n",
    "\n",
    "b = {'Set_of_Numbers': [2, 3, 5, 7, 11, 13,np.nan, 19, 23, np.nan]}\n",
    "myvar = pd.DataFrame(b, columns =['Set_of_Numbers'])\n",
    "myvar['Set_of_Numbers'] = myvar['Set_of_Numbers'].fillna(0)\n",
    "print(myvar)"
   ]
  },
  {
   "cell_type": "code",
   "execution_count": 50,
   "id": "0d49651c-bab6-435c-9582-5def4c3d6fdb",
   "metadata": {},
   "outputs": [
    {
     "name": "stdout",
     "output_type": "stream",
     "text": [
      "  ename profit\n",
      "0     a   True\n",
      "1     b   True\n",
      "2     c  False\n",
      "3     d  False\n"
     ]
    }
   ],
   "source": [
    "import pandas as pd\n",
    "a = {\n",
    "    'ename' : ['a','b','c','d'],\n",
    "    'profit' : [24,25,0,-27],\n",
    "}\n",
    "\n",
    "a = pd.DataFrame(a)\n",
    "\n",
    "a.loc[a.profit <= 0,'profit'] = False\n",
    "a.loc[a.profit > 0,'profit'] = True\n",
    "print(a)\n"
   ]
  },
  {
   "cell_type": "code",
   "execution_count": null,
   "id": "61a1f8e6-401c-4795-a79c-d5f8832aa7da",
   "metadata": {},
   "outputs": [],
   "source": []
  }
 ],
 "metadata": {
  "kernelspec": {
   "display_name": "Python 3 (ipykernel)",
   "language": "python",
   "name": "python3"
  },
  "language_info": {
   "codemirror_mode": {
    "name": "ipython",
    "version": 3
   },
   "file_extension": ".py",
   "mimetype": "text/x-python",
   "name": "python",
   "nbconvert_exporter": "python",
   "pygments_lexer": "ipython3",
   "version": "3.10.4"
  }
 },
 "nbformat": 4,
 "nbformat_minor": 5
}
