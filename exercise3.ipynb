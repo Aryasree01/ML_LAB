{
 "cells": [
  {
   "cell_type": "code",
   "execution_count": 3,
   "id": "80d81033-20ed-4776-a637-78a959ef76c2",
   "metadata": {},
   "outputs": [
    {
     "name": "stdin",
     "output_type": "stream",
     "text": [
      "Enter the number of rows of first matrix: 2\n",
      "Enter the number of columns of first matrix: 2\n"
     ]
    },
    {
     "name": "stdout",
     "output_type": "stream",
     "text": [
      "Enter the entries of first matrix in a single line seperated by space:\n"
     ]
    },
    {
     "name": "stdin",
     "output_type": "stream",
     "text": [
      " 1 2 3 4\n",
      "Enter the number of rows of second matrix: 2 \n",
      "Enter the number of columns of second matrix: 2\n"
     ]
    },
    {
     "name": "stdout",
     "output_type": "stream",
     "text": [
      "Enter the entries of second matrix in a single line seperated by space:\n"
     ]
    },
    {
     "name": "stdin",
     "output_type": "stream",
     "text": [
      " 1 2 3 4\n"
     ]
    },
    {
     "name": "stdout",
     "output_type": "stream",
     "text": [
      "First matrix:\n",
      "[[1 2]\n",
      " [3 4]]\n",
      "Second matrix:\n",
      "[[1 2]\n",
      " [3 4]]\n",
      "Dot product of first and second matrices:\n",
      "[[ 7 10]\n",
      " [15 22]]\n",
      "Transpose of first matrix:\n",
      "[[1 3]\n",
      " [2 4]]\n",
      "Trace of first matrix:\n",
      "5\n",
      "Rank of first matrix\n",
      "2\n",
      "Determinant of first matrix\n",
      "-2.0000000000000004\n",
      "Inverse of first matrix\n",
      "[[-2.  1.]\n",
      " [ 1. -0.]]\n",
      "Eigen values of first matrix:\n",
      "(array([-0.37228132,  5.37228132]), array([[-0.82456484, -0.41597356],\n",
      "       [ 0.56576746, -0.90937671]]))\n"
     ]
    }
   ],
   "source": [
    "import numpy as np\n",
    "import matplotlib as mp\n",
    "r1=int(input(\"Enter the number of rows of first matrix:\"))\n",
    "c1=int(input(\"Enter the number of columns of first matrix:\"))\n",
    "print(\"Enter the entries of first matrix in a single line seperated by space:\")\n",
    "e1=list(map(int,input().split()))\n",
    "m1=np.array(e1).reshape(r1,c1)\n",
    "r2=int(input(\"Enter the number of rows of second matrix:\"))\n",
    "c2=int(input(\"Enter the number of columns of second matrix:\"))\n",
    "print(\"Enter the entries of second matrix in a single line seperated by space:\")\n",
    "e2=list(map(int,input().split()))\n",
    "m2=np.array(e2).reshape(r2,c2)\n",
    "print(\"First matrix:\")\n",
    "print(m1)\n",
    "print(\"Second matrix:\")\n",
    "print(m2)\n",
    "print(\"Dot product of first and second matrices:\")\n",
    "d=np.dot(m1,m2)\n",
    "print(d)\n",
    "print(\"Transpose of first matrix:\")\n",
    "t=np.transpose(m1)\n",
    "print(t)\n",
    "print(\"Trace of first matrix:\")\n",
    "t1=np.trace(m1)\n",
    "print(t1)\n",
    "print(\"Rank of first matrix\")\n",
    "r=np.linalg.matrix_rank(m1)\n",
    "print(r)\n",
    "print(\"Determinant of first matrix\")\n",
    "d1=np.linalg.det(m1)\n",
    "print(d1)\n",
    "print(\"Inverse of first matrix\")\n",
    "i=np.linalg.inv(m1)\n",
    "print(np.round(i))\n",
    "print(\"Eigen values of first matrix:\")\n",
    "e3=np.linalg.eig(m1)\n",
    "print(e3)"
   ]
  },
  {
   "cell_type": "code",
   "execution_count": null,
   "id": "372e833d-7322-4d3f-9775-a3e385279c34",
   "metadata": {},
   "outputs": [],
   "source": []
  }
 ],
 "metadata": {
  "kernelspec": {
   "display_name": "Python 3 (ipykernel)",
   "language": "python",
   "name": "python3"
  },
  "language_info": {
   "codemirror_mode": {
    "name": "ipython",
    "version": 3
   },
   "file_extension": ".py",
   "mimetype": "text/x-python",
   "name": "python",
   "nbconvert_exporter": "python",
   "pygments_lexer": "ipython3",
   "version": "3.10.4"
  }
 },
 "nbformat": 4,
 "nbformat_minor": 5
}
