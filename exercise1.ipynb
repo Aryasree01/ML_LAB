{
 "cells": [
  {
   "cell_type": "code",
   "execution_count": 1,
   "id": "a7deaec4-fb5b-4618-a5ff-9c2f07f38446",
   "metadata": {},
   "outputs": [
    {
     "name": "stdout",
     "output_type": "stream",
     "text": [
      "Original numbers:\n",
      "[3 5 6]\n",
      "[4 5 8]\n",
      "comparison_greater\n",
      "[False False False]\n",
      "comparison-greater_equal\n",
      "[False  True False]\n",
      "comparison-less\n",
      "[ True False  True]\n",
      "comparison-less_equal\n",
      "[ True  True  True]\n"
     ]
    }
   ],
   "source": [
    "import numpy as np\n",
    "x=np.array([3,5,6])\n",
    "y=np.array([4,5,8])\n",
    "print(\"Original numbers:\")\n",
    "print(x)\n",
    "print(y)\n",
    "print(\"comparison_greater\")\n",
    "print(np.greater(x,y))\n",
    "print(\"comparison-greater_equal\")\n",
    "print(np.greater_equal(x,y))\n",
    "print(\"comparison-less\")\n",
    "print(np.less(x,y))\n",
    "print(\"comparison-less_equal\")\n",
    "print(np.less_equal(x,y))"
   ]
  },
  {
   "cell_type": "code",
   "execution_count": 2,
   "id": "48359316-b94e-4d70-912a-eeadc9933c68",
   "metadata": {},
   "outputs": [
    {
     "name": "stdout",
     "output_type": "stream",
     "text": [
      "Array of all even integers from 30 to 70\n",
      "\n",
      "[30 32 34 36 38 40 42 44 46 48 50 52 54 56 58 60 62 64 66 68 70]\n"
     ]
    }
   ],
   "source": [
    "import numpy as np\n",
    "array=np.arange(30,71,2,int)\n",
    "print(\"Array of all even integers from 30 to 70\\n\")\n",
    "print(array)"
   ]
  },
  {
   "cell_type": "code",
   "execution_count": 3,
   "id": "0c120028-f64c-4dc8-8cfc-4b8387397781",
   "metadata": {},
   "outputs": [
    {
     "name": "stdout",
     "output_type": "stream",
     "text": [
      "3X3 identity matrix:\n",
      "\n",
      "[[1. 0. 0.]\n",
      " [0. 1. 0.]\n",
      " [0. 0. 1.]]\n"
     ]
    }
   ],
   "source": [
    "import numpy as np\n",
    "array=np.identity(3)\n",
    "print(\"3X3 identity matrix:\\n\")\n",
    "print(array)"
   ]
  },
  {
   "cell_type": "code",
   "execution_count": 4,
   "id": "27fbde35-b61d-459b-98a4-05446970d579",
   "metadata": {},
   "outputs": [
    {
     "name": "stdout",
     "output_type": "stream",
     "text": [
      "sum of all numbers:\n",
      "\n",
      "21\n",
      "sum of column elements:\n",
      "\n",
      "[5 7 9]\n",
      "sum of row elements:\n",
      "[ 6 15]\n"
     ]
    }
   ],
   "source": [
    "import numpy as np\n",
    "array=np.array([[1,2,3],[4,5,6]])\n",
    "print(\"sum of all numbers:\\n\")\n",
    "print(np.sum(array))\n",
    "print(\"sum of column elements:\\n\")\n",
    "print(np.sum(array,axis=0))\n",
    "print(\"sum of row elements:\")\n",
    "print(np.sum(array,axis=1))"
   ]
  },
  {
   "cell_type": "code",
   "execution_count": 5,
   "id": "50c2915c-6b82-4952-a91a-63a6c736c724",
   "metadata": {},
   "outputs": [
    {
     "name": "stdout",
     "output_type": "stream",
     "text": [
      "Original vector:\n",
      "[ 0  1  2  3  4  5  6  7  8  9 10 11 12 13 14 15 16 17 18 19 20]\n",
      "After changing the sign of the numbers in the range from 9 to 15:\n",
      "[  0   1   2   3   4   5   6   7   8  -9 -10 -11 -12 -13 -14 -15  16  17\n",
      "  18  19  20]\n"
     ]
    }
   ],
   "source": [
    "import numpy as np\n",
    "array=np.arange(21)\n",
    "print(\"Original vector:\")\n",
    "print(array)\n",
    "print(\"After changing the sign of the numbers in the range from 9 to 15:\")\n",
    "array[(array >= 9) & (array <= 15)] *= -1\n",
    "print(array)\n"
   ]
  },
  {
   "cell_type": "code",
   "execution_count": 6,
   "id": "cd90a721-18c1-47ad-8f28-97c9d2e5921d",
   "metadata": {},
   "outputs": [
    {
     "name": "stdout",
     "output_type": "stream",
     "text": [
      "5X5 zero matrix with elements on the main diagonal equal to 1,2,3,4,5\n",
      "[[1 0 0 0 0]\n",
      " [0 2 0 0 0]\n",
      " [0 0 3 0 0]\n",
      " [0 0 0 4 0]\n",
      " [0 0 0 0 5]]\n"
     ]
    }
   ],
   "source": [
    "import numpy as np\n",
    "array=np.diag([1,2,3,4,5])\n",
    "print(\"5X5 zero matrix with elements on the main diagonal equal to 1,2,3,4,5\")\n",
    "print(array)\n",
    "\n"
   ]
  },
  {
   "cell_type": "code",
   "execution_count": 7,
   "id": "559d39e1-73d6-4722-9da1-1353283a0667",
   "metadata": {},
   "outputs": [
    {
     "name": "stdout",
     "output_type": "stream",
     "text": [
      "Array:\n",
      " [ 2  4  6  8 10]\n",
      "Content in file.txt: [ 2  4  6  8 10]\n"
     ]
    }
   ],
   "source": [
    "import numpy as np\n",
    "array = np.array([2,4,6,8,10])\n",
    "print('Array:\\n', array)\n",
    "file = open(\"file.txt\", \"w+\")\n",
    "c = str(array)\n",
    "file.write(c)\n",
    "file.close()\n",
    "file = open(\"file.txt\", \"r\")\n",
    "c = file.read()\n",
    "print(\"Content in file.txt:\", c)\n",
    "file.close()\n"
   ]
  },
  {
   "cell_type": "code",
   "execution_count": 8,
   "id": "d7f7b8e7-90b4-4201-b4a7-02e7939d7f0e",
   "metadata": {},
   "outputs": [
    {
     "name": "stdout",
     "output_type": "stream",
     "text": [
      "Array 1:\n",
      "[1 2 3 4]\n",
      "Array 2:\n",
      "[1 2 3 4]\n",
      "Array 1 and Array 2 are equal or not:\n",
      "True\n"
     ]
    }
   ],
   "source": [
    "import numpy as np\n",
    "x=np.array([1,2,3,4])\n",
    "y=np.array([1,2,3,4])\n",
    "print(\"Array 1:\")\n",
    "print(x)\n",
    "print(\"Array 2:\")\n",
    "print(y)\n",
    "print(\"Array 1 and Array 2 are equal or not:\")\n",
    "a=np.allclose(x,y)\n",
    "print(a)"
   ]
  },
  {
   "cell_type": "code",
   "execution_count": 9,
   "id": "e958e94f-aa56-414c-be0c-db00c249764c",
   "metadata": {},
   "outputs": [
    {
     "name": "stdout",
     "output_type": "stream",
     "text": [
      "Original array:\n",
      "[[ 0  1  2  3]\n",
      " [ 4  5  6  7]\n",
      " [ 8  9 10 11]\n",
      " [12 13 14 15]]\n",
      "Array after swapping first and last rows:\n",
      "[[12 13 14 15]\n",
      " [ 4  5  6  7]\n",
      " [ 8  9 10 11]\n",
      " [ 0  1  2  3]]\n"
     ]
    }
   ],
   "source": [
    "import numpy as np\n",
    "array = np.arange(16, dtype='int').reshape(-1, 4)\n",
    "print(\"Original array:\")\n",
    "print(array)\n",
    "print(\"Array after swapping first and last rows:\")\n",
    "array[[0,-1],:]=array[[-1,0],:]\n",
    "print(array)\n"
   ]
  },
  {
   "cell_type": "code",
   "execution_count": 10,
   "id": "0d364fcf-b7fd-41b1-bd32-9f9b2e764706",
   "metadata": {},
   "outputs": [
    {
     "name": "stdout",
     "output_type": "stream",
     "text": [
      "Array 1:\n",
      "[1 2 3 4]\n",
      "Array 2:\n",
      "[5 6 7 8]\n",
      "Resultant array after multiplication:\n",
      "[ 5 12 21 32]\n"
     ]
    }
   ],
   "source": [
    "import numpy as np\n",
    "array1=np.array([1,2,3,4])\n",
    "array2=np.array([5,6,7,8])\n",
    "print(\"Array 1:\")\n",
    "print(array1)\n",
    "print(\"Array 2:\")\n",
    "print(array2)\n",
    "print(\"Resultant array after multiplication:\")\n",
    "print(np.multiply(array1,array2))\n"
   ]
  },
  {
   "cell_type": "code",
   "execution_count": null,
   "id": "68cf1536-5f5d-48ae-bb46-831479b8057a",
   "metadata": {},
   "outputs": [],
   "source": []
  }
 ],
 "metadata": {
  "kernelspec": {
   "display_name": "Python 3 (ipykernel)",
   "language": "python",
   "name": "python3"
  },
  "language_info": {
   "codemirror_mode": {
    "name": "ipython",
    "version": 3
   },
   "file_extension": ".py",
   "mimetype": "text/x-python",
   "name": "python",
   "nbconvert_exporter": "python",
   "pygments_lexer": "ipython3",
   "version": "3.10.4"
  }
 },
 "nbformat": 4,
 "nbformat_minor": 5
}
